{
 "cells": [
  {
   "cell_type": "code",
   "execution_count": 1,
   "id": "d3f76f8b-95c3-4235-8cfd-c98ad598b40a",
   "metadata": {},
   "outputs": [],
   "source": [
    "PARKINGS = [\n",
    "    \"Gto-Alhondiga\",\n",
    "    \"Gto-Alonso\",\n",
    "    \"Gto-Hinojo\",\n",
    "    \"Gto-SanPedro\",\n",
    "]"
   ]
  },
  {
   "cell_type": "code",
   "execution_count": 2,
   "id": "54e1c263-a513-485c-b9ca-f885c094be23",
   "metadata": {},
   "outputs": [],
   "source": [
    "import pandas as pd\n",
    "\n",
    "csv_path = \"https://raw.githubusercontent.com/L4rralde/Parking_Lots/refs/heads/main/data/data.csv\"\n",
    "\n",
    "data = pd.read_csv(csv_path)\n",
    "data = data.drop(columns=[\"Unnamed: 0\", \"Leon-Mariachi\", \"Irapuato-Hidalgo\"])\n",
    "data[\"Fecha_Hora\"] = pd.to_datetime(data[\"Fecha_Hora\"])\n",
    "data.set_index([\"Fecha_Hora\"], inplace=True)\n",
    "means = data.mean()\n",
    "stds = data.std()\n",
    "\n",
    "data = (data - means)/stds"
   ]
  },
  {
   "cell_type": "code",
   "execution_count": 3,
   "id": "3a8feeb3-9d48-408a-807e-5fa5153e4fd2",
   "metadata": {},
   "outputs": [],
   "source": [
    "data[\"Dia_Semana\"] = data.index.weekday\n",
    "data[\"Hora\"] = data.index.hour\n",
    "data[\"Minuto\"] = data.index.minute\n",
    "data[\"Horas_Semana\"] = data[\"Dia_Semana\"]*24 + data[\"Hora\"]\n",
    "data[\"Minutos_Semana\"] = data[\"Dia_Semana\"]*1440 + data[\"Hora\"]*60 + data[\"Minuto\"]"
   ]
  },
  {
   "cell_type": "code",
   "execution_count": 4,
   "id": "43a15757-ad04-422c-a399-8d34b2f0c8b9",
   "metadata": {},
   "outputs": [],
   "source": [
    "from sklearn.model_selection import train_test_split\n",
    "from sklearn.utils import resample\n",
    "from sklearn.model_selection import KFold\n",
    "\n",
    "\n",
    "train, test = train_test_split(data, test_size=0.2, shuffle=False)\n",
    "\n",
    "kf = KFold(n_splits=10, shuffle=False)\n",
    "folds = [\n",
    "    (train.iloc[train_idx], train.iloc[val_idx])\n",
    "    for train_idx, val_idx in kf.split(train)\n",
    "]\n"
   ]
  },
  {
   "cell_type": "code",
   "execution_count": 5,
   "id": "f0408568-1a15-4a17-8a2d-063280cda40e",
   "metadata": {},
   "outputs": [],
   "source": [
    "from sklearn.linear_model import LinearRegression"
   ]
  },
  {
   "cell_type": "code",
   "execution_count": 6,
   "id": "179505e4-6b96-410e-b26d-279cfaa53b7c",
   "metadata": {},
   "outputs": [],
   "source": [
    "regressor = LinearRegression(n_jobs=4)"
   ]
  },
  {
   "cell_type": "code",
   "execution_count": 7,
   "id": "ceac46e6-482c-405f-a5eb-4a3f928bad06",
   "metadata": {},
   "outputs": [],
   "source": [
    "def mse(model, subset, predictors, response):\n",
    "    val_y = subset[response].values.ravel()\n",
    "    val_yhat = model.predict(subset[predictors])\n",
    "    return ((val_y - val_yhat)**2).mean()\n",
    "\n",
    "def cross_validation(model, predictors, response):\n",
    "    train_error = 0\n",
    "    val_error = 0\n",
    "    for i, (train_set, val_set) in enumerate(folds):\n",
    "        model.fit(train_set[predictors], train_set[response].values.ravel())\n",
    "        train_error += mse(model, train_set, predictors, response)\n",
    "        val_error += mse(model, val_set, predictors, response)\n",
    "    return (train_error/len(folds), val_error/len(folds))"
   ]
  },
  {
   "cell_type": "code",
   "execution_count": 8,
   "id": "3517a398-5ebc-4ad6-b697-475e1daf6b8c",
   "metadata": {},
   "outputs": [
    {
     "data": {
      "text/plain": [
       "(0.7818573511416796, 0.8437531995544981)"
      ]
     },
     "execution_count": 8,
     "metadata": {},
     "output_type": "execute_result"
    }
   ],
   "source": [
    "cross_validation(\n",
    "    model = regressor,\n",
    "    predictors = [\"Hora\"],\n",
    "    response = [\"Gto-Alonso\"]\n",
    ")"
   ]
  },
  {
   "cell_type": "code",
   "execution_count": 9,
   "id": "b1ed424f-3298-4672-af82-27f5d4dc4a24",
   "metadata": {},
   "outputs": [],
   "source": [
    "from itertools import chain, combinations\n",
    "\n",
    "def powerset(iterable):\n",
    "    \"powerset([1,2,3]) --> () (1,) (2,) (3,) (1,2) (1,3) (2,3) (1,2,3)\"\n",
    "    s = list(iterable)\n",
    "    return chain.from_iterable(combinations(s, r) for r in range(len(s)+1))"
   ]
  },
  {
   "cell_type": "code",
   "execution_count": 24,
   "id": "93d03010-9db4-492a-89a9-cde0cb817855",
   "metadata": {},
   "outputs": [
    {
     "name": "stderr",
     "output_type": "stream",
     "text": [
      " 24%|██████████████████████████▏                                                                                   | 122/512 [00:00<00:00, 470.55it/s]"
     ]
    },
    {
     "name": "stdout",
     "output_type": "stream",
     "text": [
      "['Dia_Semana', 'Hora']\n",
      "0.6875142353510597 0.7399682378032684\n",
      "\n",
      "['Dia_Semana', 'Horas_Semana']\n",
      "0.6875142353510597 0.7399682378032679\n",
      "\n",
      "['Dia_Semana', 'Minutos_Semana']\n",
      "0.687829781254217 0.7403672625286262\n",
      "\n",
      "['Hora', 'Horas_Semana']\n",
      "0.6875142353510597 0.7399682378032685\n",
      "\n",
      "['Hora', 'Minutos_Semana']\n",
      "0.6875103646526846 0.7399703177616046\n",
      "\n",
      "['Dia_Semana', 'Hora', 'Minuto']\n",
      "0.6874941796242717 0.7402935261355893\n",
      "\n",
      "['Dia_Semana', 'Hora', 'Horas_Semana']\n",
      "0.6875142353510597 0.7399682378032683\n",
      "\n",
      "['Dia_Semana', 'Hora', 'Minutos_Semana']\n",
      "0.6874941796242717 0.7402935261354334\n",
      "\n"
     ]
    },
    {
     "name": "stderr",
     "output_type": "stream",
     "text": [
      " 33%|████████████████████████████████████▌                                                                         | 170/512 [00:00<00:00, 408.24it/s]"
     ]
    },
    {
     "name": "stdout",
     "output_type": "stream",
     "text": [
      "['Dia_Semana', 'Minuto', 'Horas_Semana']\n",
      "0.6874941796242717 0.740293526135589\n",
      "\n",
      "['Dia_Semana', 'Minuto', 'Minutos_Semana']\n",
      "0.6874941796242717 0.7402935261355887\n",
      "\n",
      "['Dia_Semana', 'Horas_Semana', 'Minutos_Semana']\n",
      "0.6874941796242717 0.7402935261356047\n",
      "\n",
      "['Hora', 'Minuto', 'Horas_Semana']\n",
      "0.6874941796242717 0.7402935261355893\n",
      "\n",
      "['Hora', 'Minuto', 'Minutos_Semana']\n",
      "0.6874941796242717 0.7402935261355893\n",
      "\n",
      "['Hora', 'Horas_Semana', 'Minutos_Semana']\n",
      "0.6874941796242717 0.7402935261355897\n",
      "\n",
      "['Dia_Semana', 'Hora', 'Minuto', 'Horas_Semana']\n",
      "0.6874941796242717 0.7402935261355891\n",
      "\n",
      "['Dia_Semana', 'Hora', 'Minuto', 'Minutos_Semana']\n",
      "0.6874941796242717 0.7402935261355867\n",
      "\n",
      "['Dia_Semana', 'Hora', 'Horas_Semana', 'Minutos_Semana']\n",
      "0.6874941796242717 0.7402935261354198\n",
      "\n",
      "['Dia_Semana', 'Minuto', 'Horas_Semana', 'Minutos_Semana']\n",
      "0.6874941796242717 0.7402935261355889\n",
      "\n"
     ]
    },
    {
     "name": "stderr",
     "output_type": "stream",
     "text": [
      "100%|██████████████████████████████████████████████████████████████████████████████████████████████████████████████| 512/512 [00:00<00:00, 925.43it/s]"
     ]
    },
    {
     "name": "stdout",
     "output_type": "stream",
     "text": [
      "['Hora', 'Minuto', 'Horas_Semana', 'Minutos_Semana']\n",
      "0.6874941796242717 0.7402935261355895\n",
      "\n"
     ]
    },
    {
     "name": "stderr",
     "output_type": "stream",
     "text": [
      "\n"
     ]
    }
   ],
   "source": [
    "from tqdm import tqdm\n",
    "for predictors in tqdm(list(powerset(data.columns.drop(\"Gto-Alonso\")))):\n",
    "    if not 0 < len(predictors) < 5:\n",
    "        continue\n",
    "    matching = [s for s in predictors if \"Gto\" in s]\n",
    "    if len(matching) > 0:\n",
    "        continue\n",
    "    predictors = list(predictors)\n",
    "    train_error, val_error = cross_validation(\n",
    "        model = regressor,\n",
    "        predictors = predictors,\n",
    "        response = [\"Gto-Alonso\"]\n",
    "    )\n",
    "    if val_error > 0.75:\n",
    "        continue\n",
    "    print(predictors)\n",
    "    print(train_error, val_error)\n",
    "    print()"
   ]
  },
  {
   "cell_type": "code",
   "execution_count": 10,
   "id": "63a975a2-c605-4ae4-8b6b-098b74dff753",
   "metadata": {},
   "outputs": [
    {
     "name": "stderr",
     "output_type": "stream",
     "text": [
      " 30%|████████████████████████████████▉                                                                              | 152/512 [00:02<00:04, 72.94it/s]"
     ]
    },
    {
     "name": "stdout",
     "output_type": "stream",
     "text": [
      "['Gto-Alhondiga', 'Gto-Hinojo', 'Dia_Semana', 'Hora']\n",
      "0.3461716483216532 0.4387636484925129\n",
      "\n",
      "['Gto-Alhondiga', 'Gto-Hinojo', 'Dia_Semana', 'Horas_Semana']\n",
      "0.3461716483216532 0.4387636484925134\n",
      "\n",
      "['Gto-Alhondiga', 'Gto-Hinojo', 'Dia_Semana', 'Minutos_Semana']\n",
      "0.3459671398644152 0.4384051488452988\n",
      "\n",
      "['Gto-Alhondiga', 'Gto-Hinojo', 'Hora', 'Horas_Semana']\n",
      "0.3461716483216532 0.4387636484925127\n",
      "\n",
      "['Gto-Alhondiga', 'Gto-Hinojo', 'Hora', 'Minutos_Semana']\n",
      "0.34612773928188956 0.4387097078828056\n",
      "\n"
     ]
    },
    {
     "name": "stderr",
     "output_type": "stream",
     "text": [
      "100%|██████████████████████████████████████████████████████████████████████████████████████████████████████████████| 512/512 [00:04<00:00, 123.54it/s]\n"
     ]
    }
   ],
   "source": [
    "from tqdm import tqdm\n",
    "for predictors in tqdm(list(powerset(data.columns.drop(\"Gto-Alonso\")))):\n",
    "    if not 0 < len(predictors) < 5:\n",
    "        continue\n",
    "    matching = [s for s in predictors if \"Gto\" in s]\n",
    "    if len(matching) > 2:\n",
    "        continue\n",
    "    predictors = list(predictors)\n",
    "    train_error, val_error = cross_validation(\n",
    "        model = regressor,\n",
    "        predictors = predictors,\n",
    "        response = [\"Gto-Alonso\"]\n",
    "    )\n",
    "    if val_error > 0.44:\n",
    "        continue\n",
    "    print(predictors)\n",
    "    print(train_error, val_error)\n",
    "    print()"
   ]
  },
  {
   "cell_type": "code",
   "execution_count": 13,
   "id": "0b58c9c9-19db-4ffe-b921-b65f4f33d7d6",
   "metadata": {},
   "outputs": [
    {
     "name": "stderr",
     "output_type": "stream",
     "text": [
      " 53%|██████████████████████████████████████████████████████████▎                                                    | 269/512 [00:04<00:04, 56.34it/s]"
     ]
    },
    {
     "name": "stdout",
     "output_type": "stream",
     "text": [
      "['Gto-Alhondiga', 'Gto-Hinojo', 'Gto-Pozuelos', 'Dia_Semana', 'Hora']\n",
      "0.3261172093299516 0.42390548292100777\n",
      "\n",
      "['Gto-Alhondiga', 'Gto-Hinojo', 'Gto-Pozuelos', 'Dia_Semana', 'Horas_Semana']\n",
      "0.3261172093299516 0.42390548292100744\n",
      "\n",
      "['Gto-Alhondiga', 'Gto-Hinojo', 'Gto-Pozuelos', 'Dia_Semana', 'Minutos_Semana']\n",
      "0.3259241854453828 0.423570966416528\n",
      "\n",
      "['Gto-Alhondiga', 'Gto-Hinojo', 'Gto-Pozuelos', 'Hora', 'Horas_Semana']\n",
      "0.3261172093299516 0.4239054829210077\n",
      "\n",
      "['Gto-Alhondiga', 'Gto-Hinojo', 'Gto-Pozuelos', 'Hora', 'Minutos_Semana']\n",
      "0.3260704064039203 0.42384770229949426\n",
      "\n"
     ]
    },
    {
     "name": "stderr",
     "output_type": "stream",
     "text": [
      "100%|███████████████████████████████████████████████████████████████████████████████████████████████████████████████| 512/512 [00:07<00:00, 69.85it/s]\n"
     ]
    }
   ],
   "source": [
    "from tqdm import tqdm\n",
    "for predictors in tqdm(list(powerset(data.columns.drop(\"Gto-Alonso\")))):\n",
    "    if not 0 < len(predictors) < 6:\n",
    "        continue\n",
    "    matching = [s for s in predictors if \"Gto\" in s]\n",
    "    if len(matching) > 3:\n",
    "        continue\n",
    "    predictors = list(predictors)\n",
    "    train_error, val_error = cross_validation(\n",
    "        model = regressor,\n",
    "        predictors = predictors,\n",
    "        response = [\"Gto-Alonso\"]\n",
    "    )\n",
    "    if val_error > 0.43:\n",
    "        continue\n",
    "    print(predictors)\n",
    "    print(train_error, val_error)\n",
    "    print()"
   ]
  },
  {
   "cell_type": "code",
   "execution_count": 16,
   "id": "5b380556-8b2a-49f9-b087-8dee0c5b74d9",
   "metadata": {},
   "outputs": [
    {
     "name": "stderr",
     "output_type": "stream",
     "text": [
      "100%|███████████████████████████████████████████████████████████████████████████████████████████████████████████████| 512/512 [00:10<00:00, 50.39it/s]\n"
     ]
    }
   ],
   "source": [
    "from tqdm import tqdm\n",
    "for predictors in tqdm(list(powerset(data.columns.drop(\"Gto-Alonso\")))):\n",
    "    if not predictors:\n",
    "        continue\n",
    "    predictors = list(predictors)\n",
    "    train_error, val_error = cross_validation(\n",
    "        model = regressor,\n",
    "        predictors = predictors,\n",
    "        response = [\"Gto-Alonso\"]\n",
    "    )\n",
    "    if val_error > 0.423:\n",
    "        continue\n",
    "    print(predictors)\n",
    "    print(train_error, val_error)\n",
    "    print()"
   ]
  },
  {
   "cell_type": "code",
   "execution_count": 33,
   "id": "5505a028-f729-4ff8-b70a-b19f6191f926",
   "metadata": {},
   "outputs": [
    {
     "data": {
      "text/plain": [
       "0.24689311249157475"
      ]
     },
     "execution_count": 33,
     "metadata": {},
     "output_type": "execute_result"
    }
   ],
   "source": [
    "predictors = ['Dia_Semana', 'Minutos_Semana']\n",
    "response = ['Gto-Alonso']\n",
    "regressor = LinearRegression(n_jobs=4)\n",
    "\n",
    "regressor.fit(train[predictors], train[response].values.ravel())\n",
    "regressor.score(test[predictors], test[response].values.ravel())"
   ]
  },
  {
   "cell_type": "code",
   "execution_count": 37,
   "id": "d46f6d66-2c79-4997-8ff6-c199b8649704",
   "metadata": {},
   "outputs": [
    {
     "name": "stderr",
     "output_type": "stream",
     "text": [
      "<>:9: SyntaxWarning: invalid escape sequence '\\h'\n",
      "<>:9: SyntaxWarning: invalid escape sequence '\\h'\n",
      "/var/folders/y8/gfw8crg95jdf0ymxjbqm7hlm0000gn/T/ipykernel_17021/3139324158.py:9: SyntaxWarning: invalid escape sequence '\\h'\n",
      "  plt.plot(y.index, yhat*stds[response].values.ravel() + means[response].values.ravel(), label='$\\hat y$', alpha=0.8)\n"
     ]
    },
    {
     "data": {
      "image/png": "[encoded data removed]",
      "text/plain": [
       "<Figure size 900x250 with 1 Axes>"
      ]
     },
     "metadata": {},
     "output_type": "display_data"
    },
    {
     "name": "stdout",
     "output_type": "stream",
     "text": [
      "['Dia_Semana', 'Minutos_Semana']\n",
      "0.24689311249157475\n",
      "0.6578035072122359\n"
     ]
    }
   ],
   "source": [
    "import matplotlib.pyplot as plt\n",
    "\n",
    "y = test[response]\n",
    "yhat = regressor.predict(test[predictors])\n",
    "mse = ((y.values.ravel() - yhat)**2).mean()\n",
    "\n",
    "plt.figure(figsize=(9, 2.5))\n",
    "plt.plot(y.index, (y*stds + means)[response].values.ravel(), label='$y$', alpha=0.8)\n",
    "plt.plot(y.index, yhat*stds[response].values.ravel() + means[response].values.ravel(), label='$\\hat y$', alpha=0.8)\n",
    "plt.xticks(rotation=60)\n",
    "\n",
    "plt.title(\"Estacionamiento Alonso\")\n",
    "plt.ylabel(\"Disponibilidad\")\n",
    "plt.legend()\n",
    "plt.savefig(\"media/linear_regression.jpeg\")\n",
    "plt.show()\n",
    "\n",
    "print(predictors)\n",
    "print(regressor.score(test[predictors], test[response].values.ravel()))\n",
    "print(mse)"
   ]
  },
  {
   "cell_type": "code",
   "execution_count": null,
   "id": "0d6adf47-1c59-4e89-8981-8149e1bbc7fc",
   "metadata": {},
   "outputs": [],
   "source": []
  }
 ],
 "metadata": {
  "kernelspec": {
   "display_name": "Python 3 (ipykernel)",
   "language": "python",
   "name": "python3"
  },
  "language_info": {
   "codemirror_mode": {
    "name": "ipython",
    "version": 3
   },
   "file_extension": ".py",
   "mimetype": "text/x-python",
   "name": "python",
   "nbconvert_exporter": "python",
   "pygments_lexer": "ipython3",
   "version": "3.12.7"
  }
 },
 "nbformat": 4,
 "nbformat_minor": 5
}
